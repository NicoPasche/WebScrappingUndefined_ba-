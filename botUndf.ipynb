{
  "cells": [
    {
      "cell_type": "markdown",
      "metadata": {
        "id": "view-in-github",
        "colab_type": "text"
      },
      "source": [
        "<a href=\"https://colab.research.google.com/github/NicoPasche/WebScrappingUndefined_ba-/blob/main/botUndf.ipynb\" target=\"_parent\"><img src=\"https://colab.research.google.com/assets/colab-badge.svg\" alt=\"Open In Colab\"/></a>"
      ]
    },
    {
      "cell_type": "code",
      "execution_count": 1,
      "metadata": {
        "colab": {
          "base_uri": "https://localhost:8080/"
        },
        "id": "0tPTmlygV22Z",
        "outputId": "a39d770b-a2de-4586-cd20-9b4630b54eed"
      },
      "outputs": [
        {
          "output_type": "stream",
          "name": "stdout",
          "text": [
            "Looking in indexes: https://pypi.org/simple, https://us-python.pkg.dev/colab-wheels/public/simple/\n",
            "Requirement already satisfied: kora in /usr/local/lib/python3.7/dist-packages (0.9.20)\n",
            "Requirement already satisfied: fastcore in /usr/local/lib/python3.7/dist-packages (from kora) (1.4.4)\n",
            "Requirement already satisfied: ipython in /usr/local/lib/python3.7/dist-packages (from kora) (5.5.0)\n",
            "Requirement already satisfied: pip in /usr/local/lib/python3.7/dist-packages (from fastcore->kora) (21.1.3)\n",
            "Requirement already satisfied: packaging in /usr/local/lib/python3.7/dist-packages (from fastcore->kora) (21.3)\n",
            "Requirement already satisfied: pygments in /usr/local/lib/python3.7/dist-packages (from ipython->kora) (2.6.1)\n",
            "Requirement already satisfied: traitlets>=4.2 in /usr/local/lib/python3.7/dist-packages (from ipython->kora) (5.1.1)\n",
            "Requirement already satisfied: decorator in /usr/local/lib/python3.7/dist-packages (from ipython->kora) (4.4.2)\n",
            "Requirement already satisfied: pexpect in /usr/local/lib/python3.7/dist-packages (from ipython->kora) (4.8.0)\n",
            "Requirement already satisfied: setuptools>=18.5 in /usr/local/lib/python3.7/dist-packages (from ipython->kora) (57.4.0)\n",
            "Requirement already satisfied: prompt-toolkit<2.0.0,>=1.0.4 in /usr/local/lib/python3.7/dist-packages (from ipython->kora) (1.0.18)\n",
            "Requirement already satisfied: pickleshare in /usr/local/lib/python3.7/dist-packages (from ipython->kora) (0.7.5)\n",
            "Requirement already satisfied: simplegeneric>0.8 in /usr/local/lib/python3.7/dist-packages (from ipython->kora) (0.8.1)\n",
            "Requirement already satisfied: six>=1.9.0 in /usr/local/lib/python3.7/dist-packages (from prompt-toolkit<2.0.0,>=1.0.4->ipython->kora) (1.15.0)\n",
            "Requirement already satisfied: wcwidth in /usr/local/lib/python3.7/dist-packages (from prompt-toolkit<2.0.0,>=1.0.4->ipython->kora) (0.2.5)\n",
            "Requirement already satisfied: pyparsing!=3.0.5,>=2.0.2 in /usr/local/lib/python3.7/dist-packages (from packaging->fastcore->kora) (3.0.9)\n",
            "Requirement already satisfied: ptyprocess>=0.5 in /usr/local/lib/python3.7/dist-packages (from pexpect->ipython->kora) (0.7.0)\n"
          ]
        }
      ],
      "source": [
        "!pip install kora"
      ]
    },
    {
      "cell_type": "code",
      "execution_count": 2,
      "metadata": {
        "id": "DSsVXZqMYZC9"
      },
      "outputs": [],
      "source": [
        "from kora.selenium import wd\n",
        "import time\n",
        "from bs4 import BeautifulSoup\n",
        "import pandas as pd\n",
        "import re\n",
        "import numpy as np\n",
        "DATA_TALLES = ['XS','S','M','L','XL','XXL']\n",
        "DATA_FUNDAS_COLOR = ['ROSA','NARANJA','VERDE','VIOLETA','ROJO']\n",
        "DATA_FUNDAS_TAMANO = ['IPHONE 11','IPHONE 11 PRO','IPHONE 11 PRO MAX','IPHONE 12','IPHONE 12 PRO/IPHONE 12 PRO MAX','IPHONE 13 PRO','IPHONE 13 PRO MAX']\n",
        "DATA_FUNDAS_TAMANO_2 = ['IPHONE 11','IPHONE 11 PRO','IPHONE 11 PRO MAX','IPHONE 12','IPHONE 12 PRO/IPHONE 12 PRO MAX','IPHONE 13','IPHONE 13 PRO','IPHONE 13 PRO MAX']\n",
        "def extractor_url(itemListaURL):\n",
        "  for itemURL in itemListaURL:\n",
        "      if itemURL[0:4] == \"http\":\n",
        "        return itemURL\n",
        "def extractor_stock(stocks):\n",
        "  for itemStock in stocks:\n",
        "    if itemStock == \"No\":\n",
        "      return 0\n",
        "    elif len(itemStock)<=4:\n",
        "      return int(itemStock)\n",
        "\n",
        "def extractro_stock_individual(stockDeTodoSF):\n",
        "  contador = 0\n",
        "  row = []\n",
        "  rows = []\n",
        "  tabla = []\n",
        "  for auxiliar in stockDeTodoSF[1:]:\n",
        "    row.append(auxiliar_extracto_stock_individual(auxiliar))\n",
        "    contador = contador + 1\n",
        "  rows.append(row)\n",
        "  if contador == 7:\n",
        "    tabla = DATA_FUNDAS_TAMANO\n",
        "  elif contador > 8:\n",
        "    for i in DATA_FUNDAS_TAMANO_2:\n",
        "      for j in DATA_FUNDAS_COLOR:\n",
        "        k = i + \" \" +j \n",
        "        tabla.append(k)\n",
        "  elif contador == 1:\n",
        "    tabla.append(\"TALLE ÚNICO/ITEM ÚNICO\")       \n",
        "  else:\n",
        "    tabla = DATA_TALLES[:contador]\n",
        "  df = pd.DataFrame.from_records(rows,columns=tabla)\n",
        "  return df\n",
        "      \n",
        "def auxiliar_extracto_stock_individual(auxiliar):\n",
        "  valor = '' \n",
        "  for numero in auxiliar:\n",
        "    if numero == \",\":\n",
        "      return int(valor) \n",
        "    else:\n",
        "      valor = valor + numero \n",
        "\n",
        "def extraer_stocks(URL):\n",
        "  wd.get(URL)\n",
        "  soup = BeautifulSoup(wd.page_source)\n",
        "  stocks = str(soup.find(\"meta\",{\"name\":\"twitter:data2\"})).split('\"')\n",
        "  stock = extractor_stock(stocks)\n",
        "  stockDeTodo = (soup.findAll(\"script\",{\"type\":\"text/javascript\"}))\n",
        "  stockDeTodo = ''.join(map(str,stockDeTodo))\n",
        "  stockDeTodoSF = (str(stockDeTodo).split('\"stock\":'))\n",
        "  stockIndividual = extractro_stock_individual(stockDeTodoSF)\n",
        "  return [stock,stockIndividual]\n",
        "def crear_tablas(URL):\n",
        "  wd.get(URL)\n",
        "  wd.set_window_size(1920,10080)\n",
        "  soup = BeautifulSoup(wd.page_source)\n",
        "  items = soup.find(\"div\",{\"class\":\"row-fluid container-wide container-xs container-product-grid\"})\n",
        "  rows_processed = []\n",
        "  for item in items.findAll(\"div\",{\"class\":\"span3 item-container m-bottom-half\"}):\n",
        "    itemTitle = item.find('a',{\"class\":\"js-item-name item-name\"})\n",
        "    itemTitle = itemTitle.text.strip('\\n                                                    ')\n",
        "    itemListaURL = str(item.find('a',{\"title\":itemTitle})).split('\"')\n",
        "    itemURL = extractor_url(itemListaURL)\n",
        "    boolHayStock = bool(item.find('div',{\"style\":\"display:none;\"}))\n",
        "    row = []\n",
        "    row.append(itemTitle)\n",
        "    if (boolHayStock):\n",
        "      row.append(\"Hay Stock\")\n",
        "      stock = extraer_stocks(itemURL)\n",
        "      row.append(stock[0])\n",
        "      row.append(stock[1].to_dict('records'))\n",
        "    else:\n",
        "      row.append(\"Sin Stock\")\n",
        "      stock = 0\n",
        "      row.append(stock)\n",
        "      row.append(stock)\n",
        "    rows_processed.append(row)  \n",
        "  df = pd.DataFrame.from_records(rows_processed,columns=[\"Item\",\"Hay Stock?\",\"Total de Stock\",\"Individuales\"])\n",
        "  \n",
        "  return df"
      ]
    },
    {
      "cell_type": "code",
      "execution_count": 3,
      "metadata": {
        "id": "9tw8RA3Mo7x8"
      },
      "outputs": [],
      "source": [
        " def main():\n",
        "  \n",
        "  URL = \"https://undefinedba.com/productos/?mpage=6\"\n",
        "  tabla_uno = crear_tablas(URL)\n",
        "  #tabla_uno.to_csv('raw_data.csv', index=False, header=True)\n",
        "  while True:\n",
        "    tabla_dos = crear_tablas(URL)\n",
        "    auxiliar = tabla_dos\n",
        "    #tabla_dos.to_csv('raw_data2.csv', index=False, header=True)\n",
        "    if len(tabla_uno)>len(tabla_dos):\n",
        "      print(\"Sacaron un item\")\n",
        "    elif len(tabla_uno)==len(tabla_dos):\n",
        "      tabla_dos['Cambios de Stock'] = np.where( (tabla_dos['Total de Stock'] == tabla_dos['Item']) == ( tabla_uno['Total de Stock'] == tabla_dos['Item']), 'False', 'True')\n",
        "      stock_anterior = tabla_uno['Total de Stock'] \n",
        "      stock_anterior = pd.Series(stock_anterior) \n",
        "      tabla_dos = tabla_dos.assign(stock_anterior=stock_anterior.values) \n",
        "      print(tabla_dos.to_string(index=False))\n",
        "      auxiliar.pop(\"Cambios de Stock\")\n",
        "      time.sleep(15)\n",
        "    else:\n",
        "      print(\"Agregaron un item\") \n",
        "    del tabla_uno\n",
        "    tabla_uno = auxiliar\n",
        "    del auxiliar\n",
        "    del tabla_dos\n",
        "  return 0\n"
      ]
    },
    {
      "cell_type": "code",
      "source": [
        "if __name__ == '__main__':\n",
        "  main()"
      ],
      "metadata": {
        "id": "4auq5HIZsxMt"
      },
      "execution_count": null,
      "outputs": []
    },
    {
      "cell_type": "markdown",
      "source": [
        ""
      ],
      "metadata": {
        "id": "3HFU1mdL-HyG"
      }
    },
    {
      "cell_type": "markdown",
      "metadata": {
        "id": "F3yv_j0j38XJ"
      },
      "source": [
        ""
      ]
    }
  ],
  "metadata": {
    "colab": {
      "collapsed_sections": [],
      "name": "botUndf.ipynb",
      "provenance": [],
      "authorship_tag": "ABX9TyPmzvQs7/mBMF3Gv1JlAP6s",
      "include_colab_link": true
    },
    "kernelspec": {
      "display_name": "Python 3",
      "name": "python3"
    },
    "language_info": {
      "name": "python"
    }
  },
  "nbformat": 4,
  "nbformat_minor": 0
}