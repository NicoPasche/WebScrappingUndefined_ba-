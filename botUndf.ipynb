{
  "nbformat": 4,
  "nbformat_minor": 0,
  "metadata": {
    "colab": {
      "name": "botUndf.ipynb",
      "provenance": [],
      "collapsed_sections": [],
      "authorship_tag": "ABX9TyMU8ySeuXN8puv7lEq01toP",
      "include_colab_link": true
    },
    "kernelspec": {
      "name": "python3",
      "display_name": "Python 3"
    },
    "language_info": {
      "name": "python"
    }
  },
  "cells": [
    {
      "cell_type": "markdown",
      "metadata": {
        "id": "view-in-github",
        "colab_type": "text"
      },
      "source": [
        "<a href=\"https://colab.research.google.com/github/NicoPasche/WebScrappingUndefined_ba-/blob/main/botUndf.ipynb\" target=\"_parent\"><img src=\"https://colab.research.google.com/assets/colab-badge.svg\" alt=\"Open In Colab\"/></a>"
      ]
    },
    {
      "cell_type": "code",
      "execution_count": null,
      "metadata": {
        "id": "0tPTmlygV22Z"
      },
      "outputs": [],
      "source": [
        "!pip install kora\n"
      ]
    },
    {
      "cell_type": "markdown",
      "source": [
        ""
      ],
      "metadata": {
        "id": "wYAJDMdvYLX5"
      }
    },
    {
      "cell_type": "code",
      "source": [
        "from kora.selenium import wd\n",
        "import time\n",
        "from bs4 import BeautifulSoup\n",
        "import pandas as pd\n",
        "def crear_tablas(URL):\n",
        "  wd.get(URL)\n",
        "  wd.set_window_size(1920,10080)\n",
        "  time.sleep(5)\n",
        "  wd.save_screenshot(\"screenshot.png\")\n",
        "  soup = BeautifulSoup(wd.page_source)\n",
        "  items = soup.find(\"div\",{\"class\":\"row-fluid container-wide container-xs container-product-grid\"})\n",
        "  rows_processed = []\n",
        "  for item in items.findAll(\"div\",{\"class\":\"span3 item-container m-bottom-half\"}):\n",
        "    itemTitle = item.find('a',{\"class\":\"js-item-name item-name\"})\n",
        "    itemPromo = item.find('div',{\"style\":\"display:none;\"} )\n",
        "    \n",
        "    \n",
        "    #row = []\n",
        "    #row.append(itemTitle.text.strip('\\n                                                    '))\n",
        "    if (bool(item.find('div',{\"style\":\"display:none;\"} ))):\n",
        "      row = []\n",
        "      row.append(itemTitle.text.strip('\\n                                                    '))\n",
        "      row.append(\"Hay Stock\")\n",
        "    #else:\n",
        "    # row.append(\"Sin Stock\") \n",
        "      rows_processed.append(row)  \n",
        "  df = pd.DataFrame.from_records(rows_processed,columns=[\"Item Title\",\"Stock\"])\n",
        "  return df"
      ],
      "metadata": {
        "id": "DSsVXZqMYZC9"
      },
      "execution_count": 2,
      "outputs": []
    },
    {
      "cell_type": "code",
      "source": [
        "def main():\n",
        "  \n",
        "  URL = \"https://undefinedba.com/productos/?mpage=6\"\n",
        "  tabla_uno = crear_tablas(URL)\n",
        "  display(tabla_uno)\n",
        "  while time.sleep(60) == None:\n",
        "    tabla_dos= crear_tablas(URL)\n",
        "    if (len(tabla_uno) != len(tabla_dos)):\n",
        "      display(tabla_dos)\n",
        "    tabla_uno = tabla_dos\n",
        "  return 0\n",
        "main()"
      ],
      "metadata": {
        "id": "9tw8RA3Mo7x8"
      },
      "execution_count": null,
      "outputs": []
    }
  ]
}
